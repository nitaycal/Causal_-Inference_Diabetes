{
 "cells": [
  {
   "cell_type": "code",
   "execution_count": null,
   "metadata": {},
   "outputs": [],
   "source": [
    "import pandas as pd\n",
    "import seaborn as sns\n",
    "import matplotlib.pyplot as plt \n",
    "import matplotlib\n",
    "\n",
    "matplotlib.rcParams['figure.figsize'] = (8, 3.5)\n",
    "sns.set()\n",
    "pd.options.display.max_rows = 200\n",
    "pd.options.display.max_columns = 100"
   ]
  },
  {
   "cell_type": "code",
   "execution_count": null,
   "metadata": {},
   "outputs": [],
   "source": [
    "df = pd.read_csv('diabetic_data.csv')\n",
    "df"
   ]
  },
  {
   "cell_type": "code",
   "execution_count": null,
   "metadata": {},
   "outputs": [],
   "source": [
    "sns.barplot(data=df.groupby(['readmitted']).agg({'encounter_id': 'count'}).reset_index().rename(columns={'encounter_id': '# records'}), x='readmitted', y='# records', palette='Reds') "
   ]
  },
  {
   "cell_type": "code",
   "execution_count": null,
   "metadata": {},
   "outputs": [],
   "source": [
    "df.drop_duplicates('patient_nbr').groupby(['readmitted']).agg({'encounter_id': 'count'}).reset_index().rename(columns={'encounter_id': '# records'})"
   ]
  },
  {
   "cell_type": "markdown",
   "metadata": {},
   "source": [
    "### Choosing Treatments"
   ]
  },
  {
   "cell_type": "code",
   "execution_count": null,
   "metadata": {},
   "outputs": [],
   "source": [
    "df['no_med'] = 'No'\n",
    "MED_COLUMNS = ['metformin', 'repaglinide', 'nateglinide', 'chlorpropamide',\n",
    "       'glimepiride', 'acetohexamide', 'glipizide', 'glyburide', 'tolbutamide',\n",
    "       'pioglitazone', 'rosiglitazone', 'acarbose', 'miglitol', 'troglitazone',\n",
    "       'tolazamide', 'examide', 'citoglipton', 'insulin',\n",
    "       'glyburide-metformin', 'glipizide-metformin',\n",
    "       'glimepiride-pioglitazone', 'metformin-rosiglitazone',\n",
    "       'metformin-pioglitazone' , 'no_med']\n",
    "df.loc[:, MED_COLUMNS] = df[MED_COLUMNS].where(df[MED_COLUMNS] == 'No', 1)\n",
    "df.loc[:, MED_COLUMNS] = df[MED_COLUMNS].where(df[MED_COLUMNS] == 1, 0)\n",
    "df.loc[:, MED_COLUMNS] = df.loc[:, MED_COLUMNS].astype(int)\n",
    "df['n_d_meds'] = df[MED_COLUMNS].sum(axis=1).astype(int)\n",
    "df['no_med'] = (df['n_d_meds'] == 0) * 1\n",
    "df"
   ]
  },
  {
   "cell_type": "code",
   "execution_count": null,
   "metadata": {},
   "outputs": [],
   "source": [
    "s0 = df['n_d_meds'].value_counts()\n",
    "sns.barplot(x=s0.index, y=s0)"
   ]
  },
  {
   "cell_type": "code",
   "execution_count": null,
   "metadata": {},
   "outputs": [],
   "source": [
    "df[(df['metformin'] > 0) & (df['insulin'] > 0)].shape"
   ]
  },
  {
   "cell_type": "code",
   "execution_count": null,
   "metadata": {},
   "outputs": [],
   "source": [
    "s1 = df[MED_COLUMNS].sum(axis=0).sort_values()\n",
    "s1 = s1[s1 > 10]\n",
    "sns.barplot(x=s1, y=s1.index)"
   ]
  },
  {
   "cell_type": "code",
   "execution_count": null,
   "metadata": {},
   "outputs": [],
   "source": [
    "s2 = df[df['n_d_meds'] == 1][MED_COLUMNS].sum(axis=0).sort_values()\n",
    "s2 = s2[s2 > 20]\n",
    "sns.barplot(x=s2, y=s2.index)"
   ]
  },
  {
   "cell_type": "code",
   "execution_count": null,
   "metadata": {},
   "outputs": [],
   "source": [
    "can_meds = ['glyburide','glipizide','metformin','insulin']\n",
    "results = []\n",
    "df_no_med = df\n",
    "results.append(df_no_med[can_meds].sum(axis=0))\n",
    "results.append(df_no_med[df_no_med['n_d_meds'] <= 1][can_meds].sum(axis=0))\n",
    "results.append(df_no_med[df_no_med['n_d_meds'] <= 2][can_meds].sum(axis=0))\n",
    "results = pd.DataFrame(results).astype(int)\n",
    "results.index = ['No constraints', 'Exactly 1', '2 or less than']\n",
    "results"
   ]
  },
  {
   "cell_type": "code",
   "execution_count": null,
   "metadata": {},
   "outputs": [],
   "source": [
    "df[df['n_d_meds'] == 1][can_meds].sum(axis=0)"
   ]
  },
  {
   "cell_type": "code",
   "execution_count": null,
   "metadata": {},
   "outputs": [],
   "source": [
    "patients = df[['patient_nbr']+MED_COLUMNS].groupby('patient_nbr').mean().reset_index()\n",
    "patients_insulin_and_metformin = patients[(patients['insulin'] > 0) & (patients['metformin'] > 0)]['patient_nbr'].unique().tolist()\n",
    "print(len(patients_insulin_and_metformin))"
   ]
  },
  {
   "cell_type": "code",
   "execution_count": null,
   "metadata": {},
   "outputs": [],
   "source": [
    "s0 = df.groupby('patient_nbr').agg({'encounter_id':'count'}).reset_index().rename(columns={'encounter_id':'# encounters'}).groupby('# encounters').agg({'patient_nbr':'nunique'}).reset_index().rename(columns={'patient_nbr':'# patients'})\n",
    "s0 = s0[s0['# encounters'] < 8]\n",
    "sns.barplot(x=s0['# encounters'], y=s0['# patients'], palette='Paired')"
   ]
  },
  {
   "cell_type": "markdown",
   "metadata": {},
   "source": [
    "### Filtering The Data"
   ]
  },
  {
   "cell_type": "code",
   "execution_count": null,
   "metadata": {},
   "outputs": [],
   "source": [
    "CATEGORICAL_COLUMNS = ['race', 'gender', 'age',  'max_glu_serum', 'A1Cresult', 'readmitted']\n",
    "df = df[(df['n_d_meds'] <= 2) & (df['patient_nbr'].isin(patients_insulin_and_metformin) == False) &\n",
    "        (df['glyburide-metformin'] + df['glipizide-metformin'] + df['glimepiride-pioglitazone'] + \n",
    "         df['metformin-rosiglitazone'] + df['metformin-pioglitazone'] == 0)]\n",
    "df['number_visits'] = df['number_outpatient'] + df['number_inpatient']\n",
    "df['num_procedures'] = df['num_lab_procedures'] + df['num_procedures']\n",
    "df['treatment'] = 'other'\n",
    "df.loc[(df['insulin'] == False) & (df['metformin'] == True), 'treatment'] = 'metformin'\n",
    "df.loc[(df['insulin'] == True) & (df['metformin'] == False), 'treatment'] = 'insulin'\n",
    "df2 = pd.get_dummies(df[['encounter_id', 'patient_nbr', 'race', 'gender', 'age', 'time_in_hospital', 'num_procedures',\n",
    "   'num_medications', 'number_visits', 'number_emergency', 'number_diagnoses',\n",
    "    'max_glu_serum', 'A1Cresult', 'readmitted', 'treatment'] + MED_COLUMNS], prefix_sep=':', columns=CATEGORICAL_COLUMNS)"
   ]
  },
  {
   "cell_type": "code",
   "execution_count": null,
   "metadata": {},
   "outputs": [],
   "source": [
    "df2.columns"
   ]
  },
  {
   "cell_type": "code",
   "execution_count": null,
   "metadata": {},
   "outputs": [],
   "source": [
    "df2.to_csv('casual_diabetes.csv', index=False)"
   ]
  },
  {
   "cell_type": "code",
   "execution_count": null,
   "metadata": {},
   "outputs": [],
   "source": [
    "df2 = df2[df2['treatment'] != 'other']"
   ]
  },
  {
   "cell_type": "code",
   "execution_count": null,
   "metadata": {},
   "outputs": [],
   "source": [
    "ins = df2[df2['treatment'] == 'insulin']\n",
    "met = df2[df2['treatment'] == 'metformin']\n",
    "for col in ['time_in_hospital', 'num_procedures','num_medications', 'number_visits', 'number_emergency','number_diagnoses']:\n",
    "    print(col)\n",
    "    print(df2['insulin'].corr(df2[col]))\n",
    "    print(df2['readmitted:<30'].corr(df2[col]))\n",
    "    print(ins['readmitted:<30'].corr(ins[col]))\n",
    "    print(met['readmitted:<30'].corr(met[col]))"
   ]
  },
  {
   "cell_type": "markdown",
   "metadata": {},
   "source": [
    "### First Results "
   ]
  },
  {
   "cell_type": "code",
   "execution_count": null,
   "metadata": {},
   "outputs": [],
   "source": [
    "means = df2.groupby('treatment').mean()"
   ]
  },
  {
   "cell_type": "code",
   "execution_count": null,
   "metadata": {},
   "outputs": [],
   "source": [
    "means[['age:[0-10)', 'age:[10-20)', 'age:[20-30)', 'age:[30-40)', 'age:[40-50)',\n",
    "       'age:[50-60)', 'age:[60-70)', 'age:[70-80)', 'age:[80-90)', 'age:[90-100)']]"
   ]
  },
  {
   "cell_type": "code",
   "execution_count": null,
   "metadata": {},
   "outputs": [],
   "source": [
    "df2 = df2[df2['age:[0-10)'] == 0]\n",
    "means = df2.groupby('treatment').mean()"
   ]
  },
  {
   "cell_type": "code",
   "execution_count": null,
   "metadata": {},
   "outputs": [],
   "source": [
    "means[['race:?',\n",
    "       'race:AfricanAmerican', 'race:Asian', 'race:Caucasian', 'race:Hispanic',\n",
    "       'race:Other', 'gender:Female', 'gender:Male']]"
   ]
  },
  {
   "cell_type": "code",
   "execution_count": null,
   "metadata": {},
   "outputs": [],
   "source": [
    "means[['time_in_hospital', 'num_procedures',\n",
    "       'num_medications', 'number_visits', 'number_emergency',\n",
    "       'number_diagnoses']]"
   ]
  },
  {
   "cell_type": "code",
   "execution_count": null,
   "metadata": {},
   "outputs": [],
   "source": [
    "means[['max_glu_serum:>200', 'max_glu_serum:>300',\n",
    "       'max_glu_serum:None', 'max_glu_serum:Norm', 'A1Cresult:>7',\n",
    "       'A1Cresult:>8', 'A1Cresult:None', 'A1Cresult:Norm']]"
   ]
  },
  {
   "cell_type": "code",
   "execution_count": null,
   "metadata": {},
   "outputs": [],
   "source": [
    "means[['metformin', 'repaglinide',\n",
    "       'nateglinide', 'chlorpropamide', 'glimepiride', 'acetohexamide',\n",
    "       'glipizide', 'glyburide', 'tolbutamide', ]]"
   ]
  },
  {
   "cell_type": "code",
   "execution_count": null,
   "metadata": {},
   "outputs": [],
   "source": [
    "means[['pioglitazone', 'rosiglitazone', 'acarbose', 'miglitol', 'troglitazone', 'tolazamide',\n",
    "       'examide', 'citoglipton', 'insulin']]"
   ]
  },
  {
   "cell_type": "code",
   "execution_count": null,
   "metadata": {},
   "outputs": [],
   "source": [
    "means[['readmitted:<30','readmitted:>30', 'readmitted:NO']]"
   ]
  },
  {
   "cell_type": "markdown",
   "metadata": {},
   "source": [
    "### Propensity"
   ]
  },
  {
   "cell_type": "code",
   "execution_count": null,
   "metadata": {},
   "outputs": [],
   "source": [
    "from matplotlib import pyplot as plt"
   ]
  },
  {
   "cell_type": "code",
   "execution_count": null,
   "metadata": {},
   "outputs": [],
   "source": [
    "data = pd.read_csv('casual_diabetes.csv')\n",
    "treatments = (data[data['treatment'] != 'other']['treatment'] == 'insulin').to_numpy()\n",
    "propensity_scores = pd.read_csv('project_code/propensity_scores.csv')['0'].to_numpy()\n",
    "print(treatments.shape, propensity_scores.shape)"
   ]
  },
  {
   "cell_type": "code",
   "execution_count": null,
   "metadata": {},
   "outputs": [],
   "source": [
    "treat_plt = plt.hist(propensity_scores[treatments==1], fc=(0, 0, 1, 0.5),bins=20, label='Insulin', density=True)\n",
    "cont_plt = plt.hist(propensity_scores[treatments==0],fc=(1, 0, 0, 0.5),bins=20, label='Metformin', density=True)\n",
    "plt.legend();\n",
    "plt.xlabel('propensity score');\n",
    "plt.ylabel('density');"
   ]
  }
 ],
 "metadata": {
  "kernelspec": {
   "display_name": "Python 3",
   "language": "python",
   "name": "python3"
  },
  "language_info": {
   "codemirror_mode": {
    "name": "ipython",
    "version": 3
   },
   "file_extension": ".py",
   "mimetype": "text/x-python",
   "name": "python",
   "nbconvert_exporter": "python",
   "pygments_lexer": "ipython3",
   "version": "3.6.5"
  }
 },
 "nbformat": 4,
 "nbformat_minor": 2
}
